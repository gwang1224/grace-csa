{
 "cells": [
  {
   "cell_type": "markdown",
   "metadata": {},
   "source": [
    "---\n",
    "toc: true\n",
    "comments: true\n",
    "layout: default\n",
    "title: College Board Unit 4 Notes\n",
    "---"
   ]
  },
  {
   "cell_type": "markdown",
   "metadata": {},
   "source": [
    "17.5%-22.5%\n",
    "\n",
    "iteration: repeating an action or set of actions until a given condition is met"
   ]
  },
  {
   "cell_type": "code",
   "execution_count": null,
   "metadata": {},
   "outputs": [],
   "source": [
    "// WHILE LOOP\n",
    "code before loop\n",
    "while (condition) {\n",
    "  do this while the condition is true\n",
    "}\n",
    "do this when the condition is no longer true"
   ]
  },
  {
   "cell_type": "markdown",
   "metadata": {},
   "source": [
    "Infinite Loop Scenario:\n",
    "- Cause: When the loop condition remains perpetually true, the loop doesn't exit.\n",
    "- Creation: Setting the condition as simply \"true\" or missing a change within the loop that turns the condition false.\n",
    "- Impact: Infinite loops can severely affect computer systems, potentially causing crashes. This could be harmful, especially on servers, and should be avoided at all costs.\n",
    "Action: To halt a program stuck in an infinite loop, use ctrl+c to stop its execution immediately within your programming environment.\n",
    "\n",
    "Loop Condition Always False:\n",
    "- Non-executing Loop Scenario:\n",
    "    - Effect: When the loop condition always remains false, the loop never runs; the loop body is entirely bypassed.\n",
    "    - Practical Implications: Although occasionally present in exam scenarios, in real-world applications, this leads to inefficiencies and results in unnecessarily larger code file sizes.\n",
    "    - Mitigation: It's crucial to meticulously review loop conditions to prevent this scenario and ensure the loop runs when intended, avoiding unnecessary code bloat."
   ]
  },
  {
   "cell_type": "code",
   "execution_count": 2,
   "metadata": {},
   "outputs": [
    {
     "name": "stdout",
     "output_type": "stream",
     "text": [
      "hello\n",
      "hello\n",
      "hello\n",
      "hello\n",
      "hello\n"
     ]
    }
   ],
   "source": [
    "// Fixed Repetitions\n",
    "\n",
    "int i = 0;\n",
    "while (i < 5) {\n",
    "  System.out.println(\"hello\");\n",
    "  i++;\n",
    "}"
   ]
  },
  {
   "cell_type": "markdown",
   "metadata": {},
   "source": [
    "### Break in While Loop"
   ]
  },
  {
   "cell_type": "code",
   "execution_count": null,
   "metadata": {},
   "outputs": [],
   "source": [
    "while (true) {\n",
    "    do something\n",
    "    if (certain condition is met) {\n",
    "      do something else\n",
    "      break;\n",
    "    }\n",
    "    do something if condition not met\n",
    "  }\n",
    "  "
   ]
  }
 ],
 "metadata": {
  "kernelspec": {
   "display_name": "Java",
   "language": "java",
   "name": "java"
  },
  "language_info": {
   "codemirror_mode": "java",
   "file_extension": ".jshell",
   "mimetype": "text/x-java-source",
   "name": "java",
   "pygments_lexer": "java",
   "version": "20.0.2+9-78"
  }
 },
 "nbformat": 4,
 "nbformat_minor": 2
}
