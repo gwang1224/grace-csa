{
 "cells": [
  {
   "attachments": {},
   "cell_type": "markdown",
   "metadata": {},
   "source": [
    "---\n",
    "layout: default\n",
    "title: Java Hello\n",
    "description: A progressive journey through Java basics starting with the classic \"Hello, World!\" example.\n",
    "courses: { labnotebook: {week: 1} }\n",
    "type: hacks\n",
    "---"
   ]
  },
  {
   "attachments": {},
   "cell_type": "markdown",
   "metadata": {},
   "source": [
    "### [Object Oriented Programming](https://youtu.be/Wok4Xw_5cyY) \n",
    "\n",
    "- **Object-Oriented Programming:** an approach to creating and using models of physical or imagined objects\n",
    "- **class:** a programmer-defined blueprint from which objects are created\n",
    "- **camel case:** a naming convention where the first letter of the first word is upper or lowercase and the first letter of each additional word is uppercase\n",
    "- java is case sensitive\n",
    "- public: class can be accessed from anywhere"
   ]
  },
  {
   "cell_type": "code",
   "execution_count": null,
   "metadata": {},
   "outputs": [],
   "source": [
    "public class MyFirstClass {\n",
    "    \n",
    "}"
   ]
  },
  {
   "cell_type": "markdown",
   "metadata": {},
   "source": [
    "### [Creating Objects](https://youtu.be/C5Ks_u87Ltg)\n",
    "\n",
    "- **class:** a list of attributes and instructions (a blueprint) for how to create an instance of itself\n",
    "    - **attribute:** characteristics of an object\n",
    "    - **behaviors:** actions hat an object can perform\n",
    "- **object:** an instance of the class\n",
    "- **instantiate:** to all the constructor to create an object\n",
    "- **constructor:** a block of code that has the same name as the class and tells the computer how to create a new object\n",
    "- creating objects example"
   ]
  },
  {
   "cell_type": "code",
   "execution_count": null,
   "metadata": {},
   "outputs": [],
   "source": [
    "House myHouse = new House();\n",
    "\n",
    "House friendsHouse = new House();\n",
    "\n",
    "House parentsHouse = new House();"
   ]
  },
  {
   "cell_type": "markdown",
   "metadata": {},
   "source": [
    "- **state:** the attributes represented by the object's instance variables"
   ]
  },
  {
   "cell_type": "markdown",
   "metadata": {},
   "source": [
    "### [Calling Methods](https://youtu.be/CPE_lYGCw3A)\n",
    "\n",
    "- **method:** a named set of instructions to perform a task\n",
    "- **parameter:** a variable in the method that defines the type of value to receive when the method is called"
   ]
  },
  {
   "cell_type": "code",
   "execution_count": null,
   "metadata": {},
   "outputs": [],
   "source": [
    "fido.bark(3);"
   ]
  },
  {
   "cell_type": "markdown",
   "metadata": {},
   "source": [
    "fido = name of object\n",
    "\n",
    ". = dot operator, used to call a method in a class\n",
    "\n",
    "bark = name of method\n",
    "\n",
    "3 = argument, a value passed to a method when the method is called"
   ]
  },
  {
   "attachments": {},
   "cell_type": "markdown",
   "metadata": {},
   "source": [
    "### Static example\n",
    "\n",
    "The key terms in HelloStatic introduction:\n",
    "- \"class\" is a blueprint for code, it is the code definition and must be called to run\n",
    "- \"method\" or \"static method\" in this case, is the code to be run/executed, similar to a procedure\n",
    "- \"method definition\" or \"signature\" are the keywords \"public static void\" in front of the name \"main\" and the parameters \"String[] args\" after the name.\n",
    "- \"method call\" is the means in which we run the defined code\n"
   ]
  },
  {
   "cell_type": "code",
   "execution_count": null,
   "metadata": {},
   "outputs": [],
   "source": [
    "// Define Static Method within a Class\n",
    "public class HelloStatic {\n",
    "    // Java standard runtime entry point\n",
    "    public static void main(String[] args) {    \n",
    "        System.out.println(\"Hello World!\");\n",
    "    }\n",
    "}\n",
    "// A method call allows us to execute code that is wrapped in Class\n",
    "HelloStatic.main(null);   // Class prefix allows reference of Static Method"
   ]
  },
  {
   "attachments": {},
   "cell_type": "markdown",
   "metadata": {},
   "source": [
    "### Dynamic Example\n",
    "\n",
    "The key terms in HelloStatic introduction:\n",
    "- \"Object Oriented Programming\" focuses software design around data, or objects.\n",
    "- \"object\" contains both methods and data\n",
    "- \"instance of a class\" is the process of making an object, unique or instances of variables are created within the object\n",
    "- \"constructor\" special method in class, code that is used to initialize the data within the object\n",
    "- \"getter\" is a method that is used to extract or reference data from within the object. "
   ]
  },
  {
   "cell_type": "code",
   "execution_count": 20,
   "metadata": {},
   "outputs": [
    {
     "name": "stdout",
     "output_type": "stream",
     "text": [
      "Hello, World!\n",
      "Hello, Nighthawk Coding Society!\n"
     ]
    }
   ],
   "source": [
    "// Define Class\n",
    "public class HelloDynamic { // name the first letter of class as capitalized, note camel case\n",
    "    // instance variable have access modifier (private is most common), data type, and name\n",
    "    private String hello;\n",
    "    // constructor signature 1, public and zero arguments, constructors do not have return type\n",
    "    public HelloDynamic() {  // 0 argument constructor\n",
    "        this.setHello(\"Hello, World!\");  // using setter with static string\n",
    "    }\n",
    "    // constructor signature, public and one argument\n",
    "    public HelloDynamic(String hello) { // 1 argument constructor\n",
    "        this.setHello(hello);   // using setter with local variable passed into constructor\n",
    "    }\n",
    "    // setter/mutator, setter have void return type and a parameter\n",
    "    public void setHello(String hello) { // setter\n",
    "        this.hello = hello;     // instance variable on the left, local variable on the right\n",
    "    }\n",
    "    // getter/accessor, getter used to return private instance variable (encapsulated), return type is String\n",
    "    public String getHello() {  // getter\n",
    "        return this.hello;\n",
    "    }\n",
    "    // public static void main(String[] args) is signature for main/drivers/tester method\n",
    "    // a driver/tester method is singular or called a class method, it is never part of an object\n",
    "    public static void main(String[] args) {  \n",
    "        HelloDynamic hd1 = new HelloDynamic(); // no argument constructor\n",
    "        HelloDynamic hd2 = new HelloDynamic(\"Hello, Nighthawk Coding Society!\"); // one argument constructor\n",
    "        System.out.println(hd1.getHello()); // accessing getter\n",
    "        System.out.println(hd2.getHello()); \n",
    "    }\n",
    "}\n",
    "// IJava activation\n",
    "HelloDynamic.main(null);"
   ]
  },
  {
   "cell_type": "markdown",
   "metadata": {},
   "source": [
    "![](https://cdn.discordapp.com/attachments/871893548319014932/1146534138904584292/java-classes.png)"
   ]
  },
  {
   "cell_type": "markdown",
   "metadata": {},
   "source": [
    "### Building own Dynamic Class\n",
    "\n",
    "Building Java code that contains instance of class, constructors, parameters, setters "
   ]
  },
  {
   "cell_type": "code",
   "execution_count": 29,
   "metadata": {},
   "outputs": [
    {
     "name": "stdout",
     "output_type": "stream",
     "text": [
      "Grace needs to buy 5 apples\n",
      "Grace needs to buy 2 breads\n"
     ]
    }
   ],
   "source": [
    "// Class definition\n",
    "class GroceryItem {\n",
    "    // Instance variables\n",
    "    private String name;\n",
    "    private int quantity;\n",
    "\n",
    "    // Constructor with parameters\n",
    "    public GroceryItem(String name, int quantity) {\n",
    "        this.name = name;\n",
    "        this.quantity = quantity;\n",
    "    }\n",
    "\n",
    "    // Getter for name\n",
    "    public String getName() {\n",
    "        return name;\n",
    "    }\n",
    "\n",
    "    // Setter for quantity\n",
    "    public void setQuantity(int quantity) {\n",
    "        if (quantity >= 0) {\n",
    "            this.quantity = quantity;\n",
    "        } else {\n",
    "            System.out.println(\"Quantity cannot be negative.\");\n",
    "        }\n",
    "    }\n",
    "\n",
    "\n",
    "    public static void main(String[] args) {\n",
    "        // Creating instances of the GroceryItem class\n",
    "        GroceryItem item1 = new GroceryItem(\"apples\", 5);  // Constructor with arguments\n",
    "        GroceryItem item2 = new GroceryItem(\"breads\", 2);\n",
    "        System.out.println(\"Grace needs to buy \" + item1.quantity + \" \" + item1.name);\n",
    "        System.out.println(\"Grace needs to buy \" + item2.quantity + \" \" + item2.name);\n",
    "    }\n",
    "    \n",
    "}\n",
    "\n",
    "GroceryItem.main(null);\n",
    "\n"
   ]
  },
  {
   "cell_type": "code",
   "execution_count": 28,
   "metadata": {},
   "outputs": [
    {
     "name": "stdout",
     "output_type": "stream",
     "text": [
      "Grace was at 16601 Nighthawk Lane San Diego, California 92127\n",
      "Grace was at 17170 Camino Del Sur San Diego, California 92127\n"
     ]
    }
   ],
   "source": [
    "// Defining Location class\n",
    "class MyLocation {\n",
    "    // creating instance variables\n",
    "    private int house;\n",
    "    private String street;\n",
    "    private String city;\n",
    "    private String state;\n",
    "    private int zip;\n",
    "\n",
    "    //Class constructor with parameters\n",
    "    public MyLocation(int house, String street, String city, String state, int zip) {\n",
    "        this.house = house;\n",
    "        this.street = street;\n",
    "        this.city = city;\n",
    "        this.state = state;\n",
    "        this.zip = zip;\n",
    "    }\n",
    "\n",
    "    // Getter for house\n",
    "    public int getHouse() {\n",
    "        return house;\n",
    "    }\n",
    "\n",
    "    // Getter for street\n",
    "    public String getStreet() {\n",
    "        return street;\n",
    "    }\n",
    "\n",
    "    // Getter for city\n",
    "    public String getCity() {\n",
    "        return city;\n",
    "    }\n",
    "\n",
    "    // Getter for house\n",
    "    public String getState() {\n",
    "        return state;\n",
    "    }\n",
    "\n",
    "    // Getter for house\n",
    "    public int getZip() {\n",
    "        return zip;\n",
    "    }\n",
    "\n",
    "    public static void main(String[] args) {\n",
    "        // Creating instances of the GroceryItem class\n",
    "        MyLocation location1 = new MyLocation(16601, \"Nighthawk Lane\", \"San Diego\", \"California\", 92127);  // Constructor with arguments\n",
    "        MyLocation location2 = new MyLocation(17170, \"Camino Del Sur\", \"San Diego\", \"California\", 92127);\n",
    "        System.out.println(\"Grace was at \" + location1.house + \" \" + location1.street + \" \" + location1.city + \", \" + location1.state + \" \" + location1.zip);\n",
    "        System.out.println(\"Grace was at \" + location2.house + \" \" + location2.street + \" \" + location2.city + \", \" + location2.state + \" \" + location2.zip);\n",
    "    }\n",
    "\n",
    "}\n",
    "\n",
    "MyLocation.main(null);"
   ]
  },
  {
   "cell_type": "markdown",
   "metadata": {},
   "source": [
    "### Building own Static Class"
   ]
  },
  {
   "cell_type": "code",
   "execution_count": 32,
   "metadata": {},
   "outputs": [
    {
     "name": "stdout",
     "output_type": "stream",
     "text": [
      "Original: Hello, World!\n",
      "Reversed: !dlroW ,olleH\n"
     ]
    }
   ],
   "source": [
    "public class StringUtils {\n",
    "    public static String reverse(String input) {\n",
    "        return new StringBuilder(input).reverse().toString();\n",
    "    }\n",
    "\n",
    "    public static void main(String[] args) {\n",
    "        String original = \"Hello, World!\";\n",
    "        String reversed = StringUtils.reverse(original);\n",
    "\n",
    "        System.out.println(\"Original: \" + original);\n",
    "        System.out.println(\"Reversed: \" + reversed);\n",
    "    }\n",
    "    \n",
    "}\n",
    "\n",
    "StringUtils.main(null);\n"
   ]
  },
  {
   "cell_type": "code",
   "execution_count": 8,
   "metadata": {},
   "outputs": [
    {
     "name": "stdout",
     "output_type": "stream",
     "text": [
      "Welcome to the Number Guessing Game!\n",
      "I have selected a number between 1 and 100. Try to guess it!\n",
      "Enter your guess: Too low! Try again.\n",
      "Enter your guess: Too low! Try again.\n",
      "Enter your guess: Too low! Try again.\n",
      "Enter your guess: Too high! Try again.\n",
      "Enter your guess: Too high! Try again.\n",
      "Enter your guess: Too high! Try again.\n",
      "Enter your guess: Too low! Try again.\n",
      "Enter your guess: Congratulations! You've guessed the number 84 in 8 attempts.\n"
     ]
    }
   ],
   "source": [
    "import java.util.Random;\n",
    "import java.util.Scanner;\n",
    "\n",
    "public class NumberGuessingGame {\n",
    "\n",
    "    public static void main(String[] args) {\n",
    "        Scanner scanner = new Scanner(System.in);\n",
    "        Random random = new Random();\n",
    "        \n",
    "        int lowerBound = 1;\n",
    "        int upperBound = 100;\n",
    "        int secretNumber = random.nextInt(upperBound - lowerBound + 1) + lowerBound;\n",
    "        \n",
    "        System.out.println(\"Welcome to the Number Guessing Game!\");\n",
    "        System.out.println(\"I have selected a number between \" + lowerBound + \" and \" + upperBound + \". Try to guess it!\");\n",
    "\n",
    "        int attempts = 0;\n",
    "        int guess = 0;\n",
    "        \n",
    "        while (guess != secretNumber) {\n",
    "            System.out.print(\"Enter your guess: \");\n",
    "            guess = scanner.nextInt();\n",
    "            attempts++;\n",
    "            \n",
    "            if (guess < secretNumber) {\n",
    "                System.out.println(\"Too low! Try again.\");\n",
    "            } else if (guess > secretNumber) {\n",
    "                System.out.println(\"Too high! Try again.\");\n",
    "            }\n",
    "        }\n",
    "\n",
    "        System.out.println(\"Congratulations! You've guessed the number \" + secretNumber + \" in \" + attempts + \" attempts.\");\n",
    "        scanner.close();\n",
    "    }\n",
    "}\n",
    "\n",
    "NumberGuessingGame.main(null);"
   ]
  }
 ],
 "metadata": {
  "kernelspec": {
   "display_name": "Java",
   "language": "java",
   "name": "java"
  },
  "language_info": {
   "codemirror_mode": "java",
   "file_extension": ".jshell",
   "mimetype": "text/x-java-source",
   "name": "java",
   "pygments_lexer": "java",
   "version": "20.0.2+9-78"
  },
  "orig_nbformat": 4
 },
 "nbformat": 4,
 "nbformat_minor": 2
}
